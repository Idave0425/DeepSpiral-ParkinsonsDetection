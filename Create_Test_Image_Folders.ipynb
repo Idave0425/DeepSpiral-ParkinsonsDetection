{
  "nbformat": 4,
  "nbformat_minor": 0,
  "metadata": {
    "colab": {
      "private_outputs": true,
      "provenance": [],
      "include_colab_link": true
    },
    "kernelspec": {
      "name": "python3",
      "display_name": "Python 3"
    },
    "language_info": {
      "name": "python"
    }
  },
  "cells": [
    {
      "cell_type": "markdown",
      "metadata": {
        "id": "view-in-github",
        "colab_type": "text"
      },
      "source": [
        "<a href=\"https://colab.research.google.com/github/Idave0425/DeepSpiral-ParkinsonsDetection/blob/main/Create_Test_Image_Folders.ipynb\" target=\"_parent\"><img src=\"https://colab.research.google.com/assets/colab-badge.svg\" alt=\"Open In Colab\"/></a>"
      ]
    },
    {
      "cell_type": "markdown",
      "source": [
        "## Mount Google Drive locally"
      ],
      "metadata": {
        "id": "CkJFEfTRTSaR"
      }
    },
    {
      "cell_type": "code",
      "source": [
        "from google.colab import drive\n",
        "drive.mount('/content/drive')"
      ],
      "metadata": {
        "id": "d6xfXL9ndTDF"
      },
      "execution_count": null,
      "outputs": []
    },
    {
      "cell_type": "markdown",
      "source": [
        "## Path to source and destination folder\n",
        "\n",
        "- You should have created a test image folder before moving further."
      ],
      "metadata": {
        "id": "QFtW9bPuTi2y"
      }
    },
    {
      "cell_type": "code",
      "source": [
        "import os\n",
        "\n",
        "# Provide the source folder\n",
        "src_folder = \"/content/drive/Shareddrives/Education_Programs/Byte_Sized_Datasets/Image Research Project/Medical_MNIST/Train\"\n",
        "# Provide the destination folder\n",
        "dest_folder = \"/content/drive/Shareddrives/Education_Programs/Byte_Sized_Datasets/Image Research Project/Medical_MNIST/Test\""
      ],
      "metadata": {
        "id": "uOHITsAyTn6e"
      },
      "execution_count": null,
      "outputs": []
    },
    {
      "cell_type": "markdown",
      "source": [
        "## List sub-folders"
      ],
      "metadata": {
        "id": "foJtwQDoTrka"
      }
    },
    {
      "cell_type": "code",
      "source": [
        "# Find all subfolders in the source folder src_folder\n",
        "directory_contents = os.listdir(src_folder)\n",
        "print('directory_contents: ', directory_contents)\n",
        "\n",
        "# Append the path of the src_folder with the sub-folders\n",
        "sub_folders = []\n",
        "for item in directory_contents:\n",
        "  if os.path.isdir(os.path.join(src_folder,item)):\n",
        "    sub_folders.append(item)\n",
        "print('sub_folders: ', sub_folders)"
      ],
      "metadata": {
        "id": "UaHwjYMOTx9C"
      },
      "execution_count": null,
      "outputs": []
    },
    {
      "cell_type": "markdown",
      "source": [
        "# Create duplicate folder structure"
      ],
      "metadata": {
        "id": "X8waqDuFT6gf"
      }
    },
    {
      "cell_type": "code",
      "source": [
        "# Create the same folder structure in destination\n",
        "for folder_name in sub_folders:\n",
        "  os.mkdir(os.path.join(dest_folder,folder_name))"
      ],
      "metadata": {
        "id": "GJtnwhd5T-8U"
      },
      "execution_count": null,
      "outputs": []
    },
    {
      "cell_type": "markdown",
      "source": [
        "## List the files"
      ],
      "metadata": {
        "id": "PvA5B8BlUBt0"
      }
    },
    {
      "cell_type": "code",
      "source": [
        "# List full paths of all images in each category/sub-folder\n",
        "list_files = []\n",
        "# Find all the files, note that you have to change it to tif if that is the extension\n",
        "for folder_name in directory_contents:\n",
        "  files_list = [_ for _ in os.listdir(os.path.join(src_folder, folder_name))]\n",
        "  # Create the list with full path\n",
        "  full_path_files_list = []\n",
        "  for file_name in files_list:\n",
        "    full_path_files_list.append(os.path.join(src_folder, folder_name, file_name))\n",
        "  list_files.append(full_path_files_list)\n",
        "print(list_files[1])"
      ],
      "metadata": {
        "id": "HG-jGnRwUFNH"
      },
      "execution_count": null,
      "outputs": []
    },
    {
      "cell_type": "markdown",
      "source": [
        "## Move x% of files"
      ],
      "metadata": {
        "id": "k-21FHQFUge6"
      }
    },
    {
      "cell_type": "code",
      "source": [
        "import random\n",
        "\n",
        "# Specify the fraction\n",
        "#this is the splitting percentage. 10% will be sent to test\n",
        "x = 10\n",
        "\n",
        "for files_list in list_files:\n",
        "  # length of the list\n",
        "  list_len = len(files_list)\n",
        "  # length of x%\n",
        "  frac_len = int(list_len * (x/100))\n",
        "  # select x% of files\n",
        "  files_to_move = random.sample(files_list, frac_len)\n",
        "  for single_file in files_to_move:\n",
        "    # extract the sub-string with subfolder/category and file name\n",
        "    subfolder_file = '/'.join(single_file.split('/')[-2:])\n",
        "    # destination path\n",
        "    dst_folder = os.path.join(dest_folder, subfolder_file)\n",
        "    # Move the file\n",
        "    os.replace(single_file, dst_folder)"
      ],
      "metadata": {
        "id": "-9s700PgUj-f"
      },
      "execution_count": null,
      "outputs": []
    },
    {
      "cell_type": "code",
      "source": [
        "for folder_name in sub_folders:\n",
        "  print(folder_name, len(os.listdir(os.path.join(dest_folder,folder_name))))"
      ],
      "metadata": {
        "id": "0dYU_py3EpuW"
      },
      "execution_count": null,
      "outputs": []
    }
  ]
}