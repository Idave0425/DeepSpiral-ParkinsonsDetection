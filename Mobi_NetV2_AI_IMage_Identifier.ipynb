{
  "cells": [
    {
      "cell_type": "markdown",
      "metadata": {
        "id": "view-in-github",
        "colab_type": "text"
      },
      "source": [
        "<a href=\"https://colab.research.google.com/github/Idave0425/DeepSpiral-ParkinsonsDetection/blob/main/Mobi_NetV2_AI_IMage_Identifier.ipynb\" target=\"_parent\"><img src=\"https://colab.research.google.com/assets/colab-badge.svg\" alt=\"Open In Colab\"/></a>"
      ]
    },
    {
      "cell_type": "code",
      "execution_count": null,
      "id": "7174ba29",
      "metadata": {
        "id": "7174ba29",
        "colab": {
          "base_uri": "https://localhost:8080/"
        },
        "outputId": "04420509-2ef0-4d77-f7cf-f25adee12cb8"
      },
      "outputs": [
        {
          "output_type": "stream",
          "name": "stdout",
          "text": [
            "Mounted at /content/drive\n"
          ]
        }
      ],
      "source": [
        "from google.colab import drive\n",
        "drive.mount('/content/drive')"
      ]
    },
    {
      "cell_type": "code",
      "execution_count": null,
      "id": "e9299975",
      "metadata": {
        "id": "e9299975",
        "colab": {
          "base_uri": "https://localhost:8080/"
        },
        "outputId": "24e3fad5-af57-4e3e-fbad-955736989c35"
      },
      "outputs": [
        {
          "output_type": "stream",
          "name": "stdout",
          "text": [
            "/content/drive/Shareddrives/1:1_Ishan_Dave/Train\n"
          ]
        }
      ],
      "source": [
        "\n",
        "# Please replace the brackets below with the drive location of your folder which included subfolders for images\n",
        "# Sample path: /content/drive/My Drive/ImageClassification\n",
        "PATH = '/content/drive/Shareddrives/1:1_Ishan_Dave/Train'\n",
        "print(PATH)"
      ]
    },
    {
      "cell_type": "code",
      "execution_count": null,
      "id": "977ab0ff",
      "metadata": {
        "id": "977ab0ff"
      },
      "outputs": [],
      "source": [
        "def create_model(base_model, num_classes):\n",
        "    import tensorflow as tf\n",
        "    # Grab the last layer and add a few extra layers to it\n",
        "    x=base_model.output\n",
        "    x=GlobalAveragePooling2D()(x)\n",
        "    # Dense layer 1\n",
        "    x=tf.keras.layers.Dense(100,activation='relu', kernel_initializer=tf.keras.initializers.VarianceScaling(), use_bias=True)(x)\n",
        "\n",
        "    # Final layer with softmax activation\n",
        "    preds=tf.keras.layers.Dense(num_classes,activation='softmax', kernel_initializer=tf.keras.initializers.VarianceScaling(), use_bias=False)(x)\n",
        "\n",
        "    # Create the final model\n",
        "    model=Model(inputs=base_model.input,outputs=preds)\n",
        "    return model\n"
      ]
    },
    {
      "cell_type": "code",
      "execution_count": null,
      "id": "5c01f002",
      "metadata": {
        "id": "5c01f002"
      },
      "outputs": [],
      "source": [
        "def get_optimizer(optimizer_name, learning_rate):\n",
        "    # Import keras optimizers\n",
        "    from tensorflow.keras.optimizers import Adam, Adadelta, Adagrad, Adamax, Ftrl, Nadam, RMSprop, SGD\n",
        "    print('Selected Optimizer', optimizer_name)\n",
        "    switcher = {\n",
        "        'Adadelta': Adadelta(learning_rate=learning_rate),\n",
        "        'Adagrad': Adagrad(learning_rate=learning_rate),\n",
        "        'Adam': Adam(learning_rate=learning_rate),\n",
        "        'Adamax': Adamax(learning_rate=learning_rate),\n",
        "        'FTRL': Ftrl(learning_rate=learning_rate),\n",
        "        'NAdam': Nadam(learning_rate=learning_rate),\n",
        "        'RMSprop': RMSprop(learning_rate=learning_rate),\n",
        "        'Gradient Descent': SGD(learning_rate=learning_rate)\n",
        "    }\n",
        "    # If optimizer_name is empty, Adam will be return as default optimizer\n",
        "    return switcher.get(optimizer_name, Adam(learning_rate=learning_rate))\n"
      ]
    },
    {
      "cell_type": "code",
      "execution_count": null,
      "id": "00347972",
      "metadata": {
        "id": "00347972",
        "colab": {
          "base_uri": "https://localhost:8080/"
        },
        "outputId": "3c3f4925-eb79-4089-adf9-753bbf3eb4f3"
      },
      "outputs": [
        {
          "output_type": "stream",
          "name": "stdout",
          "text": [
            "Found 47 images belonging to 2 classes.\n",
            "Found 11 images belonging to 2 classes.\n",
            "154\n",
            "Selected Optimizer Adam\n",
            "Epoch 1/4\n",
            "2/2 [==============================] - 7s 3s/step - loss: 54.4396 - accuracy: 0.5957 - val_loss: 17.7805 - val_accuracy: 0.8182\n",
            "Epoch 2/4\n",
            "2/2 [==============================] - 2s 2s/step - loss: 9.7662 - accuracy: 0.7872 - val_loss: 2.8039 - val_accuracy: 0.4545\n",
            "Epoch 3/4\n",
            "2/2 [==============================] - 2s 1s/step - loss: 1.9444 - accuracy: 0.5957 - val_loss: 0.7266 - val_accuracy: 0.8182\n",
            "Epoch 4/4\n",
            "2/2 [==============================] - 3s 928ms/step - loss: 0.9722 - accuracy: 0.5532 - val_loss: 0.8145 - val_accuracy: 0.1818\n"
          ]
        }
      ],
      "source": [
        "\n",
        "# Import packages needed to create a imaage classification model\n",
        "import matplotlib.pyplot as plt\n",
        "import numpy as np\n",
        "import os\n",
        "import tensorflow as tf\n",
        "\n",
        "from keras.applications.resnet import preprocess_input\n",
        "from keras.preprocessing.image import ImageDataGenerator\n",
        "from keras.layers import Dense,GlobalAveragePooling2D\n",
        "from keras.models import Model\n",
        "from tensorflow.keras import regularizers\n",
        "\n",
        "from tensorflow.keras.preprocessing import image_dataset_from_directory\n",
        "from keras.callbacks import EarlyStopping\n",
        "from tensorflow import keras\n",
        "\n",
        "# Initialize hyper params\n",
        "epochs = 4 #<-- increase for higher accuracy\n",
        "base_learning_rate = 0.1 #decrease for different results; use excel sheet to note down results from each change to learning rate and epochs\n",
        "optimizer = 'Adam'\n",
        "BATCH_SIZE = 32\n",
        "\n",
        "IMG_SIZE = (224, 224)\n",
        "\n",
        "# Create the data generation pipeline for training and validation\n",
        "train_datagen = ImageDataGenerator(preprocessing_function=preprocess_input, validation_split=0.2) # set validation split\n",
        "\n",
        "train_generator = train_datagen.flow_from_directory(PATH,\n",
        "                                                target_size=IMG_SIZE,\n",
        "                                                color_mode='rgb',\n",
        "                                                batch_size=BATCH_SIZE,\n",
        "                                                class_mode='categorical',\n",
        "                                                shuffle=True,\n",
        "                                                subset = 'training')\n",
        "validation_generator = train_datagen.flow_from_directory(PATH,\n",
        "                                                target_size=IMG_SIZE,\n",
        "                                                color_mode='rgb',\n",
        "                                                batch_size=BATCH_SIZE,\n",
        "                                                class_mode='categorical',\n",
        "                                                shuffle=True,\n",
        "                                                subset = 'validation')\n",
        "\n",
        "# Download the model, valid alpha values [0.25,0.35,0.5,0.75,1]\n",
        "base_model = tf.keras.applications.mobilenet_v2.MobileNetV2(input_shape=(224, 224, 3), include_top=False, weights='imagenet', alpha=0.35)\n",
        "for layer in base_model.layers:\n",
        "    layer.trainable=False\n",
        "\n",
        "# Specify the number of classes\n",
        "num_classes = 2\n",
        "\n",
        "# Create the base model\n",
        "model = create_model(base_model,num_classes)\n",
        "\n",
        "print(len(base_model.layers))\n",
        "\n",
        "model.compile(optimizer = get_optimizer(optimizer_name=optimizer,learning_rate=base_learning_rate),loss='CategoricalCrossentropy',metrics=['accuracy'])\n",
        "# Adam optimizer\n",
        "# loss function will be categorical cross entropy\n",
        "# evaluation metric will be accuracy\n",
        "\n",
        "early_stopping_monitor = EarlyStopping(\n",
        "    monitor='val_loss',\n",
        "    min_delta=0,\n",
        "    patience=30,\n",
        "    verbose=0,\n",
        "    mode='auto',\n",
        "    baseline=None,\n",
        "    restore_best_weights=True\n",
        ")\n",
        "\n",
        "step_size_train = train_generator.n//train_generator.batch_size\n",
        "history_fine = model.fit(train_generator,\n",
        "                        epochs=epochs,\n",
        "                        callbacks=[early_stopping_monitor],\n",
        "                        validation_data = validation_generator,\n",
        "                        verbose=1)\n"
      ]
    },
    {
      "cell_type": "code",
      "execution_count": null,
      "id": "44f46af3",
      "metadata": {
        "id": "44f46af3",
        "colab": {
          "base_uri": "https://localhost:8080/"
        },
        "outputId": "d3b5629a-8fac-4e8e-a45d-bdede0b46fa3"
      },
      "outputs": [
        {
          "output_type": "stream",
          "name": "stdout",
          "text": [
            "Training Accuracy:  [0.3404255211353302]\n",
            "Validation Accuracy:  [0.8181818127632141]\n",
            "Training Loss:  [33.19802474975586]\n",
            "Validation Loss:  [16.969594955444336]\n",
            "best model accuracy:  0.8181818127632141\n"
          ]
        }
      ],
      "source": [
        "\n",
        "# Import numpy for calculating best model accuracy\n",
        "import numpy as np\n",
        "# Populating matrics -> accuracy & loss\n",
        "acc = history_fine.history['accuracy']\n",
        "val_acc = history_fine.history['val_accuracy']\n",
        "\n",
        "loss = history_fine.history['loss']\n",
        "val_loss = history_fine.history['val_loss']\n",
        "\n",
        "print('Training Accuracy: ', acc)\n",
        "print('Validation Accuracy: ', val_acc)\n",
        "print('Training Loss: ', loss)\n",
        "print('Validation Loss: ', val_loss)\n",
        "best_model_accuracy = history_fine.history['val_accuracy'][np.argmin(history_fine.history['val_loss'])]\n",
        "print('best model accuracy: ', best_model_accuracy)\n"
      ]
    },
    {
      "cell_type": "code",
      "execution_count": null,
      "id": "fc7b5574",
      "metadata": {
        "id": "fc7b5574"
      },
      "outputs": [],
      "source": [
        "def seperate_labels(generator):\n",
        "    x_validation = []\n",
        "    y_validation = []\n",
        "    num_seen = 0\n",
        "\n",
        "    for x, labels in generator:\n",
        "        x_validation.append(x)\n",
        "        y_validation.append([argmax(label) for label in labels])\n",
        "        num_seen += len(x)\n",
        "        if num_seen == generator.n: break\n",
        "\n",
        "    x_validation = np.concatenate(x_validation)\n",
        "    y_validation = np.concatenate(y_validation)\n",
        "    return x_validation, y_validation\n"
      ]
    },
    {
      "cell_type": "code",
      "execution_count": null,
      "id": "4f72e109",
      "metadata": {
        "id": "4f72e109",
        "colab": {
          "base_uri": "https://localhost:8080/",
          "height": 467
        },
        "outputId": "cbd96d47-c8b7-4f3a-8a0f-bfbe35b28c45"
      },
      "outputs": [
        {
          "output_type": "stream",
          "name": "stdout",
          "text": [
            "43/43 [==============================] - 21s 467ms/step\n"
          ]
        },
        {
          "output_type": "display_data",
          "data": {
            "text/plain": [
              "<Figure size 640x480 with 2 Axes>"
            ],
            "image/png": "[encoded data removed]"
          },
          "metadata": {}
        }
      ],
      "source": [
        "# Calculate and display the confusion matrix\n",
        "import matplotlib.pyplot as plt\n",
        "from numpy.core.fromnumeric import argmax\n",
        "from sklearn.metrics import ConfusionMatrixDisplay\n",
        "\n",
        "x_validation, y_validation = seperate_labels(validation_generator)\n",
        "y_pred = model.predict(x_validation, batch_size=BATCH_SIZE)\n",
        "predictions = np.apply_along_axis(argmax, 1, y_pred)\n",
        "display_labels = validation_generator.class_indices.keys()\n",
        "\n",
        "ConfusionMatrixDisplay.from_predictions(y_validation, predictions, display_labels=display_labels, cmap=\"binary\")\n",
        "plt.show()\n"
      ]
    },
    {
      "cell_type": "code",
      "execution_count": null,
      "id": "d670cf50",
      "metadata": {
        "id": "d670cf50",
        "colab": {
          "base_uri": "https://localhost:8080/",
          "height": 141
        },
        "outputId": "419289e0-0837-4828-ea29-13c085d07ed2"
      },
      "outputs": [
        {
          "output_type": "error",
          "ename": "SyntaxError",
          "evalue": "ignored",
          "traceback": [
            "\u001b[0;36m  File \u001b[0;32m\"<ipython-input-21-67fc2127f10f>\"\u001b[0;36m, line \u001b[0;32m4\u001b[0m\n\u001b[0;31m    img_path = \"/content/drive/Shareddrives/1_1 Anik Sahai/Diabetic_retinopathy/Dataset'\u001b[0m\n\u001b[0m               ^\u001b[0m\n\u001b[0;31mSyntaxError\u001b[0m\u001b[0;31m:\u001b[0m unterminated string literal (detected at line 4)\n"
          ]
        }
      ],
      "source": [
        "\n",
        "# Predicting code for an image\n",
        "from tensorflow.keras.preprocessing import image\n",
        "# Please replace the brackets below with the location of your image which need to predict\n",
        "img_path =' \"'/content/d\"ive/Shareddrives/1_1 Anik Sahai/Diabetic_retinopathy/Dataset'\n",
        "img = image.load_img(img_path, target_size=IMG_SIZE)\n",
        "img_array = image.img_to_array(img)\n",
        "img_batch = np.expand_dims(img_array, axis=0)\n",
        "img_preprocessed = preprocess_input(img_batch)\n",
        "prediction = model.predict(img_preprocessed)\n",
        "print(prediction)\n"
      ]
    },
    {
      "cell_type": "code",
      "execution_count": null,
      "id": "1bc14f58",
      "metadata": {
        "id": "1bc14f58",
        "colab": {
          "base_uri": "https://localhost:8080/",
          "height": 487
        },
        "outputId": "96aafd18-72c1-494a-c490-ec580de82cff"
      },
      "outputs": [
        {
          "output_type": "display_data",
          "data": {
            "text/plain": [
              "<Figure size 640x480 with 1 Axes>"
            ],
            "image/png": "[encoded data removed]"
          },
          "metadata": {}
        }
      ],
      "source": [
        "\n",
        "from sklearn.metrics import roc_curve, roc_auc_score\n",
        "\n",
        "predictions = y_pred[:, 1]\n",
        "y_true = validation_generator.classes\n",
        "fpr, tpr, _ = roc_curve(y_true, predictions)\n",
        "auc = roc_auc_score(y_true, predictions)\n",
        "\n",
        "#create ROC curve\n",
        "plt.plot(fpr,tpr,label=\"AUC=\"+str(auc))\n",
        "plt.ylabel('True Positive Rate')\n",
        "plt.xlabel('False Positive Rate')\n",
        "plt.legend(bbox_to_anchor=(1, 1.12))\n",
        "plt.show()\n"
      ]
    }
  ],
  "metadata": {
    "colab": {
      "provenance": [],
      "include_colab_link": true
    },
    "language_info": {
      "name": "python"
    },
    "kernelspec": {
      "name": "python3",
      "display_name": "Python 3"
    }
  },
  "nbformat": 4,
  "nbformat_minor": 5
}